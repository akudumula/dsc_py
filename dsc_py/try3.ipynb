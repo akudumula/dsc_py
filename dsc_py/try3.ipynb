{
 "cells": [
  {
   "cell_type": "code",
   "execution_count": 24,
   "metadata": {},
   "outputs": [],
   "source": [
    "import grpc\n",
    "import pool_pb2_grpc\n",
    "import pool_pb2\n",
    "import blockchain_pb2\n",
    "import blockchain_pb2_grpc\n",
    "import time\n",
    "import hashlib\n",
    "import base58\n",
    "import yaml\n",
    "import os\n",
    "from cryptography.hazmat.backends import default_backend\n",
    "from cryptography.hazmat.primitives.asymmetric import ec\n",
    "from cryptography.hazmat.primitives import serialization\n",
    "from collections import OrderedDict"
   ]
  },
  {
   "cell_type": "code",
   "execution_count": 25,
   "metadata": {},
   "outputs": [],
   "source": [
    "def generate_key_pair():\n",
    "    private_key = ec.generate_private_key(ec.SECP256R1, default_backend())\n",
    "    public_key = private_key.public_key()\n",
    "\n",
    "    private_key_bytes = private_key.private_bytes(encoding=serialization.Encoding.PEM, format=serialization.PrivateFormat.TraditionalOpenSSL,encryption_algorithm=serialization.NoEncryption())\n",
    "\n",
    "    public_key_bytes = public_key.public_bytes(encoding=serialization.Encoding.PEM, format=serialization.PublicFormat.SubjectPublicKeyInfo)\n",
    "\n",
    "    return private_key_bytes,public_key_bytes\n",
    "\n",
    "def sha256(data):\n",
    "    return hashlib.sha256(data).digest()\n",
    "\n",
    "def base58_encode(data):\n",
    "    return base58.b58encode(data).decode('utf-8')\n"
   ]
  },
  {
   "cell_type": "code",
   "execution_count": 26,
   "metadata": {},
   "outputs": [],
   "source": [
    "def create(wallet_number):\n",
    "    with open(\"dsc-config-testing.yaml\") as file:\n",
    "        existing_data = yaml.safe_load(file)\n",
    "    if(existing_data[f\"wallet{wallet_number}\"] == None):\n",
    "        private_key, public_key = generate_key_pair()\n",
    "        private_key_sha256 = sha256(private_key)\n",
    "        public_key_sha256 = sha256(public_key)\n",
    "\n",
    "        encoded_private_key = base58_encode(private_key_sha256)\n",
    "        encoded_public_key = base58_encode(public_key_sha256)\n",
    "\n",
    "        key_data = {'private_key': encoded_private_key}\n",
    "        with open(f\"dsc-key-wallet{wallet_number}.yaml\",\"w\") as file:\n",
    "            yaml.dump(key_data,file)\n",
    "\n",
    "        os.chmod(f\"dsc-key-wallet{wallet_number}.yaml\",0o400)\n",
    "\n",
    "        with open(\"dsc-config-testing.yaml\",'r') as file:\n",
    "            existing_data = yaml.safe_load(file)\n",
    "\n",
    "        existing_data[f\"wallet{wallet_number}\"]={\"public_key\": encoded_public_key}\n",
    "\n",
    "        with open(\"dsc-config-testing.yaml\",'w') as file:\n",
    "            yaml.dump(existing_data,file,default_flow_style=False)\n",
    "\n",
    "        print(f\"Private Address: {encoded_private_key}\")\n",
    "        print(f\"Public Address: {encoded_public_key}\")\n",
    "    else:\n",
    "        print(\"Wallet already exists at dsc-config.yaml. wallet create aborted\")\n"
   ]
  },
  {
   "cell_type": "code",
   "execution_count": 29,
   "metadata": {},
   "outputs": [
    {
     "name": "stdout",
     "output_type": "stream",
     "text": [
      "Private Address: 2VM2awb7LZ2xgcT26meeu1d3ndDAu1jat6J6dUfjkZT2\n",
      "Public Address: Fi5FKhErPCeDMitBUqsUGhetLaKEGdsLa82dY3m884Be\n",
      "Private Address: 38znYzpfbRcRpkPH2oW8C36GvVFmRj8u9mhAs4e8rH6R\n",
      "Public Address: ABaB4ymwtTGPvFbXRdquPcV5AzyuZnX1PxXwRCBmWYGC\n",
      "Private Address: HPNhFTxJDED5DXGgASGsy9rjXwfMwjzqUpWX4xs4Gbea\n",
      "Public Address: 5uCbpEGZ3DGUfYasv1UiW6Pas7Hj65JMqgqRmU3jZ4gc\n",
      "Private Address: DKPytTjWnuuZp4gAsdxvFo6UtQosjT7iEL8zijnfzNEA\n",
      "Public Address: 9R7ENL8DrZ6URti3Vt98f4xWLWBpyE4rPpVjmmhHYtXv\n",
      "Private Address: DoxZpNBksV6y48NoqnXfHGJPB9peCLeDT2mscpMuXQ5n\n",
      "Public Address: 7HesZptjiDMHjGsT2vCErgNxHw7bHS1bVkcMXrqNHMEX\n",
      "Private Address: 23X7pN84tSVtP5warcQAD8BUxYY62ya3mZwtmhqHEFzp\n",
      "Public Address: 7QRiP3uRxvbq1qCJ2SJULJkJkLdq9Twse6RHt5V2bpeJ\n",
      "Private Address: 3XiYz2Niu3DLiGXNxrRHcVnPGarj6cuCnmpuSfyH8FmE\n",
      "Public Address: 8xoX8jJcii7Yvwcqr1M9eWqF9fpPrS977yxsiaK75Ggh\n",
      "Private Address: GMeKE1bpq3YSf62Y4xjbMgrHpNeB1ZkRMiWVBNdc4ztP\n",
      "Public Address: F7rVeE1Lct6EqW6xbtbhuhwajT16LdAcf3VpzPLi2U2q\n"
     ]
    }
   ],
   "source": [
    "for i in range(1,9):\n",
    "    create(i)"
   ]
  },
  {
   "cell_type": "code",
   "execution_count": null,
   "metadata": {},
   "outputs": [],
   "source": []
  }
 ],
 "metadata": {
  "kernelspec": {
   "display_name": "Python 3.9.12 ('base')",
   "language": "python",
   "name": "python3"
  },
  "language_info": {
   "codemirror_mode": {
    "name": "ipython",
    "version": 3
   },
   "file_extension": ".py",
   "mimetype": "text/x-python",
   "name": "python",
   "nbconvert_exporter": "python",
   "pygments_lexer": "ipython3",
   "version": "3.9.12"
  },
  "orig_nbformat": 4,
  "vscode": {
   "interpreter": {
    "hash": "9f110f4a0a1e3fd35f0e772f09f35ca3bc88a2623d23df1c8f31c96fd6068a1b"
   }
  }
 },
 "nbformat": 4,
 "nbformat_minor": 2
}
