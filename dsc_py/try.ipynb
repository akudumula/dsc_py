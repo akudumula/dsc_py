{
 "cells": [
  {
   "cell_type": "code",
   "execution_count": 2,
   "metadata": {},
   "outputs": [],
   "source": [
    "from concurrent import futures\n",
    "import time\n",
    "import blake3\n",
    "import blake3\n",
    "import grpc\n",
    "import blockchain_pb2\n",
    "import blockchain_pb2_grpc\n",
    "import struct\n",
    "import yaml\n",
    "from datetime import datetime\n",
    "import pickle\n",
    "import base64\n",
    "\n",
    "class transaction:\n",
    "    def __init__(self,sender,recepient,value,timestamp,transaction_id,signature):\n",
    "        self.sender = sender\n",
    "        self.recepient = recepient\n",
    "        self.value = value\n",
    "        self.timestamp = timestamp\n",
    "        self.transaction_id = transaction_id\n",
    "        self.signature = signature\n",
    "        \n",
    "class block_header:\n",
    "    def __init__(self,version,previous_block_hash,blockID,timestamp,difficulty,nonce):\n",
    "        self.version = version\n",
    "        self.previous_block_hash = previous_block_hash\n",
    "        self.blockID = blockID\n",
    "        self.timestamp = timestamp\n",
    "        self.difficulty = difficulty\n",
    "        self.nonce = nonce\n",
    "\n",
    "class block:\n",
    "    def __init__(self,block_size,block_header,transaction_count,reserved,transactions):\n",
    "        self.block_size = block_size\n",
    "        self.block_header = block_header\n",
    "        self.transaction_count = transaction_count\n",
    "        self.reserved = reserved\n",
    "        self.transactions = transactions\n",
    "\n",
    "    def add_transaction(self,transaction):\n",
    "        self.transactions.append(transaction)\n",
    "        self.block_size += len(transaction)\n",
    "        self.transaction_count = len(self.transactions)\n",
    "\n",
    "    def return_block_header(self):\n",
    "        return self.block_header\n",
    "    \n",
    "    def serialize(self):\n",
    "        # Serialize the block object\n",
    "        serialized_block = pickle.dumps(self)\n",
    "        return serialized_block\n",
    "\n",
    "    def hash_block(self):\n",
    "        # Serialize the block\n",
    "        serialized_block = self.serialize()\n",
    "\n",
    "        # Hash the serialized block using BLAKE3\n",
    "        hasher = blake3.blake3()\n",
    "        hasher.update(serialized_block)\n",
    "        block_hash = hasher.digest()\n",
    "\n",
    "        return block_hash\n",
    "        \n"
   ]
  },
  {
   "cell_type": "code",
   "execution_count": 3,
   "metadata": {},
   "outputs": [],
   "source": [
    "def create_genesis_block():\n",
    "    genesis_block = block(block_size=0,block_header=block_header(version=1,previous_block_hash=\"\",blockID=0,timestamp=0,difficulty=30,nonce=0),transaction_count=0,reserved=\"\",transactions=[])\n",
    "    return genesis_block"
   ]
  },
  {
   "cell_type": "code",
   "execution_count": 4,
   "metadata": {},
   "outputs": [],
   "source": [
    "block_chain = []\n",
    "block_chain.append(create_genesis_block())\n"
   ]
  },
  {
   "cell_type": "code",
   "execution_count": 5,
   "metadata": {},
   "outputs": [
    {
     "name": "stdout",
     "output_type": "stream",
     "text": [
      "[<__main__.block object at 0x7f832677e980>]\n"
     ]
    }
   ],
   "source": [
    "print(block_chain)"
   ]
  },
  {
   "cell_type": "code",
   "execution_count": 6,
   "metadata": {},
   "outputs": [
    {
     "name": "stdout",
     "output_type": "stream",
     "text": [
      "\n"
     ]
    }
   ],
   "source": [
    "print(block_chain[len(block_chain)-1].block_header.previous_block_hash)"
   ]
  },
  {
   "cell_type": "code",
   "execution_count": 7,
   "metadata": {},
   "outputs": [
    {
     "data": {
      "text/plain": [
       "str"
      ]
     },
     "execution_count": 7,
     "metadata": {},
     "output_type": "execute_result"
    }
   ],
   "source": [
    "type(base64.b64encode((block_chain[len(block_chain)-1]).hash_block()).decode('utf-8'))"
   ]
  },
  {
   "cell_type": "code",
   "execution_count": 8,
   "metadata": {},
   "outputs": [
    {
     "name": "stdout",
     "output_type": "stream",
     "text": [
      "Python 3.10.12\n"
     ]
    }
   ],
   "source": [
    "!python3 --version"
   ]
  },
  {
   "cell_type": "code",
   "execution_count": 9,
   "metadata": {},
   "outputs": [],
   "source": [
    "a=[]"
   ]
  },
  {
   "cell_type": "code",
   "execution_count": 10,
   "metadata": {},
   "outputs": [],
   "source": [
    "if a:\n",
    "    b = a.pop(0)"
   ]
  },
  {
   "cell_type": "code",
   "execution_count": 11,
   "metadata": {},
   "outputs": [],
   "source": [
    "t = datetime.now()"
   ]
  },
  {
   "cell_type": "code",
   "execution_count": 12,
   "metadata": {},
   "outputs": [
    {
     "data": {
      "text/plain": [
       "0.019155"
      ]
     },
     "execution_count": 12,
     "metadata": {},
     "output_type": "execute_result"
    }
   ],
   "source": [
    "(datetime.now() - t).total_seconds()"
   ]
  },
  {
   "cell_type": "code",
   "execution_count": 13,
   "metadata": {},
   "outputs": [],
   "source": [
    "def compare_first_bits(str1,str2,diff):\n",
    "    bin_str1 = bin(int.from_bytes(str1.encode(), 'big'))[2:]\n",
    "    bin_str2 = bin(int.from_bytes(str2.encode(), 'big'))[2:]\n",
    "    print(bin_str1)\n",
    "    print(bin_str2)\n",
    "    bin_str1 = bin_str1.zfill(max(len(bin_str1),len(bin_str2)))\n",
    "    bin_str2 = bin_str2.zfill(max(len(bin_str1),len(bin_str2)))\n",
    "\n",
    "    if bin_str1[:diff] == bin_str2[:diff] : \n",
    "        return 1\n",
    "    else:\n",
    "        return 0"
   ]
  },
  {
   "cell_type": "code",
   "execution_count": 14,
   "metadata": {},
   "outputs": [
    {
     "name": "stdout",
     "output_type": "stream",
     "text": [
      "1001000011001010110110001101100011011110010110000100000010000010110010001100001011100100111001101101000\n",
      "1001000011001010110110001101100011011110010110000100000010001100111001001101001011001010110111001100100\n"
     ]
    },
    {
     "data": {
      "text/plain": [
       "1"
      ]
     },
     "execution_count": 14,
     "metadata": {},
     "output_type": "execute_result"
    }
   ],
   "source": [
    "compare_first_bits(\"Hello, Adarsh\",\"Hello, Friend\",30)"
   ]
  },
  {
   "cell_type": "code",
   "execution_count": 15,
   "metadata": {},
   "outputs": [],
   "source": [
    "fingerprint = \"f75c5b0f-f7ce-46bd-9416-9441b9fbbe4c\"\n",
    "public_key = \"abcd100001\"\n",
    "nonce = 444444"
   ]
  },
  {
   "cell_type": "code",
   "execution_count": 16,
   "metadata": {},
   "outputs": [],
   "source": [
    "class hash_block:\n",
    "    def __init__(self,fingerprint,public_key,nonce):\n",
    "        self.fingerprint = fingerprint\n",
    "        self.public_key = public_key\n",
    "        self.nonce = nonce"
   ]
  },
  {
   "cell_type": "code",
   "execution_count": 17,
   "metadata": {},
   "outputs": [],
   "source": [
    "hash_try = hash_block(fingerprint,public_key,nonce)"
   ]
  },
  {
   "cell_type": "code",
   "execution_count": 18,
   "metadata": {},
   "outputs": [
    {
     "data": {
      "text/plain": [
       "22369621"
      ]
     },
     "execution_count": 18,
     "metadata": {},
     "output_type": "execute_result"
    }
   ],
   "source": [
    "import sys\n",
    "size = 1024 ** 3\n",
    "\n",
    "size // sys.getsizeof(hash_try)"
   ]
  },
  {
   "cell_type": "code",
   "execution_count": 19,
   "metadata": {},
   "outputs": [
    {
     "name": "stdout",
     "output_type": "stream",
     "text": [
      "88\n",
      "88\n"
     ]
    }
   ],
   "source": [
    "l = []\n",
    "l.append((\"gVruje/XQmSRo6sPLD+8/D8P\",444444))\n",
    "print(sys.getsizeof(l))\n",
    "l.append((\"gVruje/XQmSRo6sPLD+8/D8P\",444444))\n",
    "print(sys.getsizeof(l))\n",
    "a = sys.getsizeof(l)"
   ]
  },
  {
   "cell_type": "code",
   "execution_count": 20,
   "metadata": {},
   "outputs": [],
   "source": [
    "i = 1\n",
    "while(a == sys.getsizeof(l)):\n",
    "    l.append((\"gVruje/XQmSRo6sPLD+8/D8P\",444444))\n",
    "    i+=1"
   ]
  },
  {
   "cell_type": "code",
   "execution_count": 21,
   "metadata": {},
   "outputs": [
    {
     "data": {
      "text/plain": [
       "4"
      ]
     },
     "execution_count": 21,
     "metadata": {},
     "output_type": "execute_result"
    }
   ],
   "source": [
    "i"
   ]
  },
  {
   "cell_type": "code",
   "execution_count": 22,
   "metadata": {},
   "outputs": [
    {
     "data": {
      "text/plain": [
       "[('gVruje/XQmSRo6sPLD+8/D8P', 444444),\n",
       " ('gVruje/XQmSRo6sPLD+8/D8P', 444444),\n",
       " ('gVruje/XQmSRo6sPLD+8/D8P', 444444),\n",
       " ('gVruje/XQmSRo6sPLD+8/D8P', 444444),\n",
       " ('gVruje/XQmSRo6sPLD+8/D8P', 444444)]"
      ]
     },
     "execution_count": 22,
     "metadata": {},
     "output_type": "execute_result"
    }
   ],
   "source": [
    "l"
   ]
  },
  {
   "cell_type": "code",
   "execution_count": 23,
   "metadata": {},
   "outputs": [
    {
     "data": {
      "text/plain": [
       "120"
      ]
     },
     "execution_count": 23,
     "metadata": {},
     "output_type": "execute_result"
    }
   ],
   "source": [
    "sys.getsizeof(l)"
   ]
  },
  {
   "cell_type": "code",
   "execution_count": 24,
   "metadata": {},
   "outputs": [
    {
     "data": {
      "text/plain": [
       "'gVruje/XQmSRo6sPLD+8/D8P'"
      ]
     },
     "execution_count": 24,
     "metadata": {},
     "output_type": "execute_result"
    }
   ],
   "source": [
    "l[0][0]"
   ]
  },
  {
   "cell_type": "code",
   "execution_count": null,
   "metadata": {},
   "outputs": [],
   "source": []
  }
 ],
 "metadata": {
  "kernelspec": {
   "display_name": "Python 3",
   "language": "python",
   "name": "python3"
  },
  "language_info": {
   "codemirror_mode": {
    "name": "ipython",
    "version": 3
   },
   "file_extension": ".py",
   "mimetype": "text/x-python",
   "name": "python",
   "nbconvert_exporter": "python",
   "pygments_lexer": "ipython3",
   "version": "3.10.12"
  }
 },
 "nbformat": 4,
 "nbformat_minor": 2
}
