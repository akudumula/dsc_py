{
 "cells": [
  {
   "cell_type": "code",
   "execution_count": 1,
   "metadata": {},
   "outputs": [],
   "source": [
    "import time\n",
    "import threading\n",
    "import grpc\n",
    "import blockchain_pb2\n",
    "import blockchain_pb2_grpc\n",
    "import pool_pb2\n",
    "import pool_pb2_grpc\n",
    "import yaml\n",
    "import metronome_pb2\n",
    "import metronome_pb2_grpc\n",
    "from datetime import datetime\n",
    "from concurrent import futures\n",
    "import subprocess\n",
    "import sys\n",
    "import pickle\n",
    "import blake3\n",
    "import base64"
   ]
  },
  {
   "cell_type": "code",
   "execution_count": 2,
   "metadata": {},
   "outputs": [],
   "source": [
    "def read_one_block(filename):\n",
    "    with open(f'{filename}.yaml','r') as f:\n",
    "        output=yaml.safe_load(f)\n",
    "\n",
    "    return(output)\n",
    "\n",
    "output = read_one_block(\"dsc-config\")\n"
   ]
  },
  {
   "cell_type": "code",
   "execution_count": null,
   "metadata": {},
   "outputs": [],
   "source": []
  }
 ],
 "metadata": {
  "kernelspec": {
   "display_name": "Python 3",
   "language": "python",
   "name": "python3"
  },
  "language_info": {
   "codemirror_mode": {
    "name": "ipython",
    "version": 3
   },
   "file_extension": ".py",
   "mimetype": "text/x-python",
   "name": "python",
   "nbconvert_exporter": "python",
   "pygments_lexer": "ipython3",
   "version": "3.10.12"
  }
 },
 "nbformat": 4,
 "nbformat_minor": 2
}
